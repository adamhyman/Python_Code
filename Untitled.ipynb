{
 "cells": [
  {
   "cell_type": "code",
   "execution_count": 2,
   "metadata": {},
   "outputs": [
    {
     "ename": "AttributeError",
     "evalue": "'Figure' object has no attribute 'plot'",
     "output_type": "error",
     "traceback": [
      "\u001b[1;31m---------------------------------------------------------------------------\u001b[0m",
      "\u001b[1;31mAttributeError\u001b[0m                            Traceback (most recent call last)",
      "\u001b[1;32m<ipython-input-2-e0131e4b4af2>\u001b[0m in \u001b[0;36m<module>\u001b[1;34m()\u001b[0m\n\u001b[0;32m     45\u001b[0m \u001b[0mf\u001b[0m\u001b[1;33m.\u001b[0m\u001b[0mgca\u001b[0m\u001b[1;33m(\u001b[0m\u001b[1;33m)\u001b[0m\u001b[1;33m.\u001b[0m\u001b[0myaxis\u001b[0m\u001b[1;33m.\u001b[0m\u001b[0mset_major_locator\u001b[0m\u001b[1;33m(\u001b[0m\u001b[0mmpl\u001b[0m\u001b[1;33m.\u001b[0m\u001b[0mticker\u001b[0m\u001b[1;33m.\u001b[0m\u001b[0mMultipleLocator\u001b[0m\u001b[1;33m(\u001b[0m\u001b[1;36m2\u001b[0m\u001b[1;33m)\u001b[0m\u001b[1;33m)\u001b[0m\u001b[1;33m\u001b[0m\u001b[0m\n\u001b[0;32m     46\u001b[0m \u001b[1;33m\u001b[0m\u001b[0m\n\u001b[1;32m---> 47\u001b[1;33m \u001b[0mf\u001b[0m\u001b[1;33m.\u001b[0m\u001b[0mplot\u001b[0m\u001b[1;33m(\u001b[0m\u001b[0mtimes\u001b[0m\u001b[1;33m,\u001b[0m \u001b[0mgdax_ask\u001b[0m\u001b[1;33m,\u001b[0m \u001b[1;34m'og--'\u001b[0m\u001b[1;33m)\u001b[0m\u001b[1;33m\u001b[0m\u001b[0m\n\u001b[0m\u001b[0;32m     48\u001b[0m \u001b[0mf\u001b[0m\u001b[1;33m.\u001b[0m\u001b[0mplot\u001b[0m\u001b[1;33m(\u001b[0m\u001b[0mtimes\u001b[0m\u001b[1;33m,\u001b[0m \u001b[0mgdax_bid\u001b[0m\u001b[1;33m,\u001b[0m \u001b[1;34m'g-'\u001b[0m\u001b[1;33m)\u001b[0m\u001b[1;33m\u001b[0m\u001b[0m\n\u001b[0;32m     49\u001b[0m \u001b[0mf\u001b[0m\u001b[1;33m.\u001b[0m\u001b[0mplot\u001b[0m\u001b[1;33m(\u001b[0m\u001b[0mtimes\u001b[0m\u001b[1;33m,\u001b[0m \u001b[0mkraken_ask\u001b[0m\u001b[1;33m,\u001b[0m \u001b[1;34m'ob--'\u001b[0m\u001b[1;33m)\u001b[0m\u001b[1;33m\u001b[0m\u001b[0m\n",
      "\u001b[1;31mAttributeError\u001b[0m: 'Figure' object has no attribute 'plot'"
     ]
    }
   ],
   "source": [
    "\n",
    "#  Using data from APIs and Python Arrays.\n",
    "#  Without using Numpy.\n",
    "\n",
    "#  Set output width\n",
    "\n",
    "import json\n",
    "import requests\n",
    "import datetime\n",
    "import time\n",
    "import matplotlib.pyplot as plt\n",
    "import matplotlib as mpl\n",
    "\n",
    "sleep_time = 10\n",
    "\n",
    "times = []\n",
    "gdax_ask = []\n",
    "gdax_bid = []\n",
    "kraken_ask = []\n",
    "kraken_bid = []\n",
    "gemini_ask = []\n",
    "gemini_bid = []\n",
    "\n",
    "\n",
    "for x in range(1, 5):\n",
    "    times.append(datetime.datetime.now())\n",
    "    \n",
    "    gdax = requests.get('https://api.gdax.com/products/BTC-USD/ticker').json()\n",
    "    gdax_ask.append(gdax['ask'])\n",
    "    gdax_bid.append(gdax['bid'])\n",
    "    \n",
    "    kraken = requests.get('https://api.kraken.com/0/public/Ticker?pair=XXBTZUSD').json()\n",
    "    kraken_ask.append(kraken['result']['XXBTZUSD']['a'][0])\n",
    "    kraken_bid.append(kraken['result']['XXBTZUSD']['b'][0])\n",
    "    \n",
    "    gemini = requests.get('https://api.gemini.com/v1/pubticker/btcusd').json()\n",
    "    gemini_ask.append(gemini['ask'])\n",
    "    gemini_bid.append(gemini['bid'])\n",
    "    \n",
    "    time.sleep(sleep_time)\n",
    "    \n",
    "f = plt.figure(figsize=(14,5))\n",
    "f.gca().xaxis.set_major_formatter(mpl.dates.DateFormatter('%H:%M:%S'))\n",
    "f.gca().yaxis.set_major_formatter(mpl.ticker.StrMethodFormatter('{x:,.0f}'))\n",
    "f.gca().yaxis.set_major_locator(mpl.ticker.MultipleLocator(2))\n",
    "\n",
    "f.plot(times, gdax_ask, 'og--')\n",
    "f.plot(times, gdax_bid, 'g-')\n",
    "f.plot(times, kraken_ask, 'ob--')\n",
    "f.plot(times, kraken_bid, 'b')\n",
    "f.plot(times, gemini_ask, 'om--')\n",
    "f.plot(times, gemini_bid, 'm')\n",
    "\n",
    "f.show()"
   ]
  },
  {
   "cell_type": "code",
   "execution_count": null,
   "metadata": {
    "collapsed": true
   },
   "outputs": [],
   "source": []
  }
 ],
 "metadata": {
  "kernelspec": {
   "display_name": "Python 3",
   "language": "python",
   "name": "python3"
  },
  "language_info": {
   "codemirror_mode": {
    "name": "ipython",
    "version": 3
   },
   "file_extension": ".py",
   "mimetype": "text/x-python",
   "name": "python",
   "nbconvert_exporter": "python",
   "pygments_lexer": "ipython3",
   "version": "3.6.1"
  }
 },
 "nbformat": 4,
 "nbformat_minor": 2
}
